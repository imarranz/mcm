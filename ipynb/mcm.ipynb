{
  "cells": [
    {
      "cell_type": "markdown",
      "metadata": {
        "id": "ZFrEKOGHeDg2"
      },
      "source": [
        "# README\n",
        "\n",
        "## Introduction"
      ]
    },
    {
      "cell_type": "markdown",
      "metadata": {
        "id": "kB78GwSueDg4"
      },
      "source": [
        "The `mcm` function is a tool for analyzed different metrics from a confusion matrix. \n",
        "\n",
        "This function depends of `pandas` and the function `confusion_matrix` from `sklearn.metrics`."
      ]
    },
    {
      "cell_type": "code",
      "execution_count": null,
      "metadata": {
        "id": "si8IMqrveDg6"
      },
      "outputs": [],
      "source": [
        "import pandas as pd\n",
        "from sklearn.metrics import confusion_matrix"
      ]
    },
    {
      "cell_type": "code",
      "execution_count": null,
      "metadata": {
        "id": "eMCH_t1HeDg9",
        "outputId": "4868528e-8d0f-473a-cb34-f887ae926c08"
      },
      "outputs": [
        {
          "data": {
            "text/plain": [
              "\u001b[1;31mSignature:\u001b[0m\n",
              "\u001b[0mconfusion_matrix\u001b[0m\u001b[1;33m(\u001b[0m\u001b[1;33m\n",
              "\u001b[0m    \u001b[0my_true\u001b[0m\u001b[1;33m,\u001b[0m\u001b[1;33m\n",
              "\u001b[0m    \u001b[0my_pred\u001b[0m\u001b[1;33m,\u001b[0m\u001b[1;33m\n",
              "\u001b[0m    \u001b[0mlabels\u001b[0m\u001b[1;33m=\u001b[0m\u001b[1;32mNone\u001b[0m\u001b[1;33m,\u001b[0m\u001b[1;33m\n",
              "\u001b[0m    \u001b[0msample_weight\u001b[0m\u001b[1;33m=\u001b[0m\u001b[1;32mNone\u001b[0m\u001b[1;33m,\u001b[0m\u001b[1;33m\n",
              "\u001b[0m    \u001b[0mnormalize\u001b[0m\u001b[1;33m=\u001b[0m\u001b[1;32mNone\u001b[0m\u001b[1;33m,\u001b[0m\u001b[1;33m\n",
              "\u001b[0m\u001b[1;33m)\u001b[0m\u001b[1;33m\u001b[0m\u001b[1;33m\u001b[0m\u001b[0m\n",
              "\u001b[1;31mDocstring:\u001b[0m\n",
              "Compute confusion matrix to evaluate the accuracy of a classification.\n",
              "\n",
              "By definition a confusion matrix :math:`C` is such that :math:`C_{i, j}`\n",
              "is equal to the number of observations known to be in group :math:`i` and\n",
              "predicted to be in group :math:`j`.\n",
              "\n",
              "Thus in binary classification, the count of true negatives is\n",
              ":math:`C_{0,0}`, false negatives is :math:`C_{1,0}`, true positives is\n",
              ":math:`C_{1,1}` and false positives is :math:`C_{0,1}`.\n",
              "\n",
              "Read more in the :ref:`User Guide <confusion_matrix>`.\n",
              "\n",
              "Parameters\n",
              "----------\n",
              "y_true : array-like of shape (n_samples,)\n",
              "    Ground truth (correct) target values.\n",
              "\n",
              "y_pred : array-like of shape (n_samples,)\n",
              "    Estimated targets as returned by a classifier.\n",
              "\n",
              "labels : array-like of shape (n_classes), default=None\n",
              "    List of labels to index the matrix. This may be used to reorder\n",
              "    or select a subset of labels.\n",
              "    If ``None`` is given, those that appear at least once\n",
              "    in ``y_true`` or ``y_pred`` are used in sorted order.\n",
              "\n",
              "sample_weight : array-like of shape (n_samples,), default=None\n",
              "    Sample weights.\n",
              "\n",
              "normalize : {'true', 'pred', 'all'}, default=None\n",
              "    Normalizes confusion matrix over the true (rows), predicted (columns)\n",
              "    conditions or all the population. If None, confusion matrix will not be\n",
              "    normalized.\n",
              "\n",
              "Returns\n",
              "-------\n",
              "C : ndarray of shape (n_classes, n_classes)\n",
              "    Confusion matrix.\n",
              "\n",
              "References\n",
              "----------\n",
              ".. [1] `Wikipedia entry for the Confusion matrix\n",
              "       <https://en.wikipedia.org/wiki/Confusion_matrix>`_\n",
              "       (Wikipedia and other references may use a different\n",
              "       convention for axes)\n",
              "\n",
              "Examples\n",
              "--------\n",
              ">>> from sklearn.metrics import confusion_matrix\n",
              ">>> y_true = [2, 0, 2, 2, 0, 1]\n",
              ">>> y_pred = [0, 0, 2, 2, 0, 2]\n",
              ">>> confusion_matrix(y_true, y_pred)\n",
              "array([[2, 0, 0],\n",
              "       [0, 0, 1],\n",
              "       [1, 0, 2]])\n",
              "\n",
              ">>> y_true = [\"cat\", \"ant\", \"cat\", \"cat\", \"ant\", \"bird\"]\n",
              ">>> y_pred = [\"ant\", \"ant\", \"cat\", \"cat\", \"ant\", \"cat\"]\n",
              ">>> confusion_matrix(y_true, y_pred, labels=[\"ant\", \"bird\", \"cat\"])\n",
              "array([[2, 0, 0],\n",
              "       [0, 0, 1],\n",
              "       [1, 0, 2]])\n",
              "\n",
              "In the binary case, we can extract true positives, etc as follows:\n",
              "\n",
              ">>> tn, fp, fn, tp = confusion_matrix([0, 1, 0, 1], [1, 1, 1, 0]).ravel()\n",
              ">>> (tn, fp, fn, tp)\n",
              "(0, 2, 1, 1)\n",
              "\u001b[1;31mFile:\u001b[0m      c:\\programdata\\anaconda3\\lib\\site-packages\\sklearn\\metrics\\_classification.py\n",
              "\u001b[1;31mType:\u001b[0m      function\n"
            ]
          },
          "metadata": {},
          "output_type": "display_data"
        }
      ],
      "source": [
        "?confusion_matrix"
      ]
    },
    {
      "cell_type": "code",
      "execution_count": null,
      "metadata": {
        "id": "cfCWmB17eDg_"
      },
      "outputs": [],
      "source": [
        "data = pd.DataFrame({\n",
        "    'y_true': ['Positive']*47 + ['Negative']*18,\n",
        "    'y_pred': ['Positive']*37 + ['Negative']*10 + ['Positive']*5 + ['Negative']*13})"
      ]
    },
    {
      "cell_type": "code",
      "execution_count": null,
      "metadata": {
        "id": "DkCJ4-zDeDhB",
        "outputId": "3e7d0c96-d191-45d0-daa2-a07527f12701"
      },
      "outputs": [
        {
          "data": {
            "text/plain": [
              "array([[13,  5],\n",
              "       [10, 37]], dtype=int64)"
            ]
          },
          "execution_count": 4,
          "metadata": {},
          "output_type": "execute_result"
        }
      ],
      "source": [
        "confusion_matrix(y_true = data.y_true, \n",
        "                 y_pred = data.y_pred, \n",
        "                 labels = ['Negative', 'Positive'])"
      ]
    },
    {
      "cell_type": "markdown",
      "metadata": {
        "id": "BOoSzK31eDhE"
      },
      "source": [
        "In this case, from the confusion matrix we have the following results:\n",
        "\n",
        "  * True Positive (TP): 34\n",
        "  * True Negative (TN): 13\n",
        "  * False Positive (FP): 5\n",
        "  * False Negative (FN): 10\n",
        "    "
      ]
    },
    {
      "cell_type": "code",
      "execution_count": null,
      "metadata": {
        "id": "QTc5fdOEeDhE"
      },
      "outputs": [],
      "source": [
        "tn, fp, fn, tp = confusion_matrix(y_true = data.y_true, \n",
        "                                  y_pred = data.y_pred, \n",
        "                                  labels = ['Negative', 'Positive']).ravel()"
      ]
    },
    {
      "cell_type": "code",
      "execution_count": null,
      "metadata": {
        "id": "ITci0euAeDhH",
        "outputId": "b9fefa93-5390-497d-8e36-e79a7410b00b"
      },
      "outputs": [
        {
          "data": {
            "text/plain": [
              "(13, 5, 10, 37)"
            ]
          },
          "execution_count": 6,
          "metadata": {},
          "output_type": "execute_result"
        }
      ],
      "source": [
        "(tn, fp, fn, tp)"
      ]
    },
    {
      "cell_type": "markdown",
      "metadata": {
        "id": "MCbAktVDeDhI"
      },
      "source": [
        "## MCM function"
      ]
    },
    {
      "cell_type": "markdown",
      "metadata": {
        "id": "CR2xFb2geDhJ"
      },
      "source": [
        "The `mcm`has been developed as:"
      ]
    },
    {
      "cell_type": "code",
      "execution_count": null,
      "metadata": {
        "id": "aRl0tHXNeDhK"
      },
      "outputs": [],
      "source": [
        "def mcm(tn, fp, fn, tp):\n",
        "    \"\"\"Let be a confusion matrix like this:\n",
        "    \n",
        "    \n",
        "      N    P\n",
        "    +----+----+\n",
        "    |    |    |\n",
        "    | TN | FP |\n",
        "    |    |    |\n",
        "    +----+----+\n",
        "    |    |    |\n",
        "    | FN | TP |\n",
        "    |    |    |\n",
        "    +----+----+\n",
        "    \n",
        "    The observed values by columns and the expected values by rows and the positive class in right column. With these definitions, the TN, FP, FN and TP values are that order.\n",
        "    \n",
        "    \n",
        "    Parameters\n",
        "    ----------\n",
        "    tn : integer\n",
        "         True Negative\n",
        "    fp : integer\n",
        "         False Positive\n",
        "    fn : integer\n",
        "         False Negative\n",
        "    tp : integer\n",
        "         True Positive\n",
        "   \n",
        "    Returns\n",
        "    -------\n",
        "    sum : float\n",
        "          Sum of values\n",
        "    \n",
        "    Notes\n",
        "    -----\n",
        "    https://en.wikipedia.org/wiki/Confusion_matrix\n",
        "    https://developer.lsst.io/python/numpydoc.html\n",
        "    \n",
        "    Examples\n",
        "    --------\n",
        "    data = pd.DataFrame({\n",
        "    'y_true': ['Positive']*47 + ['Negative']*18,\n",
        "    'y_pred': ['Positive']*37 + ['Negative']*10 + ['Positive']*5 + ['Negative']*13})\n",
        "    \n",
        "    tn, fp, fn, tp = confusion_matrix(y_true = data.y_true, \n",
        "                                  y_pred = data.y_pred, \n",
        "                                  labels = ['Negative', 'Positive']).ravel()\n",
        "    \n",
        "    \"\"\"\n",
        "    mcm = []\n",
        "    \n",
        "    mcm.append(['Sensitivity', tp / (tp + fn)])\n",
        "    mcm.append(['Recall', tp / (tp + fn)])\n",
        "    mcm.append(['True Positive rate (TPR)', tp / (tp + fn)])\n",
        "    mcm.append(['Specificity', tn / (tn + fp)])\n",
        "    mcm.append(['True Negative Rate (TNR)', tn / (tn + fp)])\n",
        "    \n",
        "    mcm.append(['Precision', tp / (tp + fp)])\n",
        "    mcm.append(['Positive Predictive Value (PPV)', tp / (tp + fp)])\n",
        "    mcm.append(['Negative Predictive Value (NPV)', tn / (tn + fn)])\n",
        "        \n",
        "    mcm.append(['False Negative Rate (FNR)', fn / (fn + tp)])\n",
        "    mcm.append(['False Positive Rate (FPR)', fp / (fp + tn)])\n",
        "    mcm.append(['False Discovery Rate (FDR)', fp / (fp + tp)])\n",
        "    \n",
        "    mcm.append(['Accuracy', (tp + tn) / (tp + tn + fp + fn)])\n",
        "    mcm.append(['F1 Score', 2*tp / (2*tp + fp + fn)])\n",
        "    \n",
        "    tpr = tp / (tp + fn)\n",
        "    fpr = fp / (fp + tn)\n",
        "    \n",
        "    fnr = fn / (fn + tp)\n",
        "    tnr = tn / (tn + fp)\n",
        "    \n",
        "    mcm.append(['Positive Likelihood Ratio (LR+)', tpr / fpr])\n",
        "    mcm.append(['Negative Likelihood Ratio (LR-)', fnr / tnr])\n",
        "    \n",
        "    return pd.DataFrame(mcm, columns = ['Metric', 'Value'])\n",
        "\n"
      ]
    },
    {
      "cell_type": "code",
      "execution_count": null,
      "metadata": {
        "id": "3G38gvRAeDhN",
        "outputId": "4383cbf7-7fc1-4aa8-bc28-b27266858e48"
      },
      "outputs": [
        {
          "data": {
            "text/plain": [
              "\u001b[1;31mSignature:\u001b[0m \u001b[0mmcm\u001b[0m\u001b[1;33m(\u001b[0m\u001b[0mtn\u001b[0m\u001b[1;33m,\u001b[0m \u001b[0mfp\u001b[0m\u001b[1;33m,\u001b[0m \u001b[0mfn\u001b[0m\u001b[1;33m,\u001b[0m \u001b[0mtp\u001b[0m\u001b[1;33m)\u001b[0m\u001b[1;33m\u001b[0m\u001b[1;33m\u001b[0m\u001b[0m\n",
              "\u001b[1;31mDocstring:\u001b[0m\n",
              "Let be a confusion matrix like this:\n",
              "\n",
              "\n",
              "  N    P\n",
              "+----+----+\n",
              "|    |    |\n",
              "| TN | FP |\n",
              "|    |    |\n",
              "+----+----+\n",
              "|    |    |\n",
              "| FN | TP |\n",
              "|    |    |\n",
              "+----+----+\n",
              "\n",
              "The observed values by columns and the expected values by rows and the positive class in right column. With these definitions, the TN, FP, FN and TP values are that order.\n",
              "\n",
              "\n",
              "Parameters\n",
              "----------\n",
              "tn : integer\n",
              "    True Negative\n",
              "fp: integer\n",
              "    False Positive\n",
              "fn: integer\n",
              "    False Negative\n",
              "tp: integer\n",
              "    True Positive\n",
              "\n",
              "Returns\n",
              "-------\n",
              "sum : float\n",
              "    Sum of values\n",
              "\n",
              "Notes\n",
              "-----\n",
              "https://en.wikipedia.org/wiki/Confusion_matrix\n",
              "https://developer.lsst.io/python/numpydoc.html\n",
              "\n",
              "Examples\n",
              "--------\n",
              "data = pd.DataFrame({\n",
              "'y_true': ['Positive']*47 + ['Negative']*18,\n",
              "'y_pred': ['Positive']*37 + ['Negative']*10 + ['Positive']*5 + ['Negative']*13})\n",
              "\n",
              "tn, fp, fn, tp = confusion_matrix(y_true = data.y_true, \n",
              "                              y_pred = data.y_pred, \n",
              "                              labels = ['Negative', 'Positive']).ravel()\n",
              "\u001b[1;31mFile:\u001b[0m      e:\\jupyter-notebook\\packages\\confussion_matrix\\<ipython-input-7-91745caa103c>\n",
              "\u001b[1;31mType:\u001b[0m      function\n"
            ]
          },
          "metadata": {},
          "output_type": "display_data"
        }
      ],
      "source": [
        "?mcm"
      ]
    },
    {
      "cell_type": "markdown",
      "metadata": {
        "id": "zmXl44_-eDhP"
      },
      "source": [
        "The arguments of `mcm` function are: true positive (tn), false positive (fp), false negative (fn) and true positive (tp) is this order."
      ]
    },
    {
      "cell_type": "code",
      "execution_count": null,
      "metadata": {
        "id": "CfYIK3NxeDhQ",
        "outputId": "bef41bfa-c0a9-4b4e-8036-8ff6e8bb9497"
      },
      "outputs": [
        {
          "data": {
            "text/html": [
              "<div>\n",
              "<style scoped>\n",
              "    .dataframe tbody tr th:only-of-type {\n",
              "        vertical-align: middle;\n",
              "    }\n",
              "\n",
              "    .dataframe tbody tr th {\n",
              "        vertical-align: top;\n",
              "    }\n",
              "\n",
              "    .dataframe thead th {\n",
              "        text-align: right;\n",
              "    }\n",
              "</style>\n",
              "<table border=\"1\" class=\"dataframe\">\n",
              "  <thead>\n",
              "    <tr style=\"text-align: right;\">\n",
              "      <th></th>\n",
              "      <th>Metric</th>\n",
              "      <th>Value</th>\n",
              "    </tr>\n",
              "  </thead>\n",
              "  <tbody>\n",
              "    <tr>\n",
              "      <th>0</th>\n",
              "      <td>Sensitivity</td>\n",
              "      <td>0.787234</td>\n",
              "    </tr>\n",
              "    <tr>\n",
              "      <th>1</th>\n",
              "      <td>Recall</td>\n",
              "      <td>0.787234</td>\n",
              "    </tr>\n",
              "    <tr>\n",
              "      <th>2</th>\n",
              "      <td>True Positive rate (TPR)</td>\n",
              "      <td>0.787234</td>\n",
              "    </tr>\n",
              "    <tr>\n",
              "      <th>3</th>\n",
              "      <td>Specificity</td>\n",
              "      <td>0.722222</td>\n",
              "    </tr>\n",
              "    <tr>\n",
              "      <th>4</th>\n",
              "      <td>True Negative Rate (TNR)</td>\n",
              "      <td>0.722222</td>\n",
              "    </tr>\n",
              "    <tr>\n",
              "      <th>5</th>\n",
              "      <td>Precision</td>\n",
              "      <td>0.880952</td>\n",
              "    </tr>\n",
              "    <tr>\n",
              "      <th>6</th>\n",
              "      <td>Positive Predictive Value (PPV)</td>\n",
              "      <td>0.880952</td>\n",
              "    </tr>\n",
              "    <tr>\n",
              "      <th>7</th>\n",
              "      <td>Negative Predictive Value (NPV)</td>\n",
              "      <td>0.565217</td>\n",
              "    </tr>\n",
              "    <tr>\n",
              "      <th>8</th>\n",
              "      <td>False Negative Rate (FNR)</td>\n",
              "      <td>0.212766</td>\n",
              "    </tr>\n",
              "    <tr>\n",
              "      <th>9</th>\n",
              "      <td>False Positive Rate (FPR)</td>\n",
              "      <td>0.277778</td>\n",
              "    </tr>\n",
              "    <tr>\n",
              "      <th>10</th>\n",
              "      <td>False Discovery Rate (FDR)</td>\n",
              "      <td>0.119048</td>\n",
              "    </tr>\n",
              "    <tr>\n",
              "      <th>11</th>\n",
              "      <td>Accuracy</td>\n",
              "      <td>0.769231</td>\n",
              "    </tr>\n",
              "    <tr>\n",
              "      <th>12</th>\n",
              "      <td>F1 Score</td>\n",
              "      <td>0.831461</td>\n",
              "    </tr>\n",
              "    <tr>\n",
              "      <th>13</th>\n",
              "      <td>Positive Likelihood Ratio (LR+)</td>\n",
              "      <td>2.834043</td>\n",
              "    </tr>\n",
              "    <tr>\n",
              "      <th>14</th>\n",
              "      <td>Negative Likelihood Ratio (LR-)</td>\n",
              "      <td>0.294599</td>\n",
              "    </tr>\n",
              "  </tbody>\n",
              "</table>\n",
              "</div>"
            ],
            "text/plain": [
              "                             Metric     Value\n",
              "0                       Sensitivity  0.787234\n",
              "1                            Recall  0.787234\n",
              "2          True Positive rate (TPR)  0.787234\n",
              "3                       Specificity  0.722222\n",
              "4          True Negative Rate (TNR)  0.722222\n",
              "5                         Precision  0.880952\n",
              "6   Positive Predictive Value (PPV)  0.880952\n",
              "7   Negative Predictive Value (NPV)  0.565217\n",
              "8         False Negative Rate (FNR)  0.212766\n",
              "9         False Positive Rate (FPR)  0.277778\n",
              "10       False Discovery Rate (FDR)  0.119048\n",
              "11                         Accuracy  0.769231\n",
              "12                         F1 Score  0.831461\n",
              "13  Positive Likelihood Ratio (LR+)  2.834043\n",
              "14  Negative Likelihood Ratio (LR-)  0.294599"
            ]
          },
          "execution_count": 9,
          "metadata": {},
          "output_type": "execute_result"
        }
      ],
      "source": [
        "mcm(tn, fp, fn, tp)"
      ]
    },
    {
      "cell_type": "markdown",
      "metadata": {
        "id": "-qy1vah-eDhR"
      },
      "source": [
        "### Bootstrap\n",
        "\n",
        "We can call the function `mcm` several times with a percentage of samples and estimate the distribution of each metrics.\n",
        "\n",
        "In the following example, a 80% of the samples has been used in each iteration."
      ]
    },
    {
      "cell_type": "code",
      "execution_count": null,
      "metadata": {
        "id": "d79u8XgpeDhS"
      },
      "outputs": [],
      "source": [
        "data = pd.DataFrame({\n",
        "    'y_true': ['Positive']*47 + ['Negative']*18,\n",
        "    'y_pred': ['Positive']*37 + ['Negative']*10 + ['Positive']*5 + ['Negative']*13})"
      ]
    },
    {
      "cell_type": "code",
      "execution_count": null,
      "metadata": {
        "id": "WRLA-OZueDhT"
      },
      "outputs": [],
      "source": [
        "mcm_bootstrap = []\n",
        "\n",
        "for i in range(100):\n",
        "    aux = data.sample(frac = 0.8) # 80% of the samples\n",
        "    tn, fp, fn, tp =\\\n",
        "        confusion_matrix(y_true = aux.y_true, \n",
        "                         y_pred = aux.y_pred, \n",
        "                         labels = ['Negative', 'Positive']).ravel()\n",
        "\n",
        "    mcm_bootstrap.append(mcm(tn, fp, fn, tp))"
      ]
    },
    {
      "cell_type": "markdown",
      "metadata": {
        "id": "tZsAmtEUeDhU"
      },
      "source": [
        "After 100 iterations we can be evaluate the mean, median, minimum, maximum and standar deviation for each metric."
      ]
    },
    {
      "cell_type": "code",
      "execution_count": null,
      "metadata": {
        "id": "iiYWWGvbeDhV",
        "outputId": "4342830d-7735-4cee-bae7-8fc30530ea1d"
      },
      "outputs": [
        {
          "data": {
            "text/html": [
              "<div>\n",
              "<style scoped>\n",
              "    .dataframe tbody tr th:only-of-type {\n",
              "        vertical-align: middle;\n",
              "    }\n",
              "\n",
              "    .dataframe tbody tr th {\n",
              "        vertical-align: top;\n",
              "    }\n",
              "\n",
              "    .dataframe thead tr th {\n",
              "        text-align: left;\n",
              "    }\n",
              "\n",
              "    .dataframe thead tr:last-of-type th {\n",
              "        text-align: right;\n",
              "    }\n",
              "</style>\n",
              "<table border=\"1\" class=\"dataframe\">\n",
              "  <thead>\n",
              "    <tr>\n",
              "      <th></th>\n",
              "      <th colspan=\"5\" halign=\"left\">Value</th>\n",
              "    </tr>\n",
              "    <tr>\n",
              "      <th></th>\n",
              "      <th>mean</th>\n",
              "      <th>median</th>\n",
              "      <th>min</th>\n",
              "      <th>max</th>\n",
              "      <th>std</th>\n",
              "    </tr>\n",
              "    <tr>\n",
              "      <th>Metric</th>\n",
              "      <th></th>\n",
              "      <th></th>\n",
              "      <th></th>\n",
              "      <th></th>\n",
              "      <th></th>\n",
              "    </tr>\n",
              "  </thead>\n",
              "  <tbody>\n",
              "    <tr>\n",
              "      <th>Accuracy</th>\n",
              "      <td>0.767500</td>\n",
              "      <td>0.769231</td>\n",
              "      <td>0.711538</td>\n",
              "      <td>0.826923</td>\n",
              "      <td>0.025800</td>\n",
              "    </tr>\n",
              "    <tr>\n",
              "      <th>F1 Score</th>\n",
              "      <td>0.830278</td>\n",
              "      <td>0.828571</td>\n",
              "      <td>0.794118</td>\n",
              "      <td>0.880000</td>\n",
              "      <td>0.020213</td>\n",
              "    </tr>\n",
              "    <tr>\n",
              "      <th>False Discovery Rate (FDR)</th>\n",
              "      <td>0.119385</td>\n",
              "      <td>0.121212</td>\n",
              "      <td>0.057143</td>\n",
              "      <td>0.156250</td>\n",
              "      <td>0.024744</td>\n",
              "    </tr>\n",
              "    <tr>\n",
              "      <th>False Negative Rate (FNR)</th>\n",
              "      <td>0.213905</td>\n",
              "      <td>0.216216</td>\n",
              "      <td>0.138889</td>\n",
              "      <td>0.263158</td>\n",
              "      <td>0.028851</td>\n",
              "    </tr>\n",
              "    <tr>\n",
              "      <th>False Positive Rate (FPR)</th>\n",
              "      <td>0.281694</td>\n",
              "      <td>0.285714</td>\n",
              "      <td>0.142857</td>\n",
              "      <td>0.454545</td>\n",
              "      <td>0.058819</td>\n",
              "    </tr>\n",
              "    <tr>\n",
              "      <th>Negative Likelihood Ratio (LR-)</th>\n",
              "      <td>0.299955</td>\n",
              "      <td>0.296296</td>\n",
              "      <td>0.202020</td>\n",
              "      <td>0.447154</td>\n",
              "      <td>0.049006</td>\n",
              "    </tr>\n",
              "    <tr>\n",
              "      <th>Negative Predictive Value (NPV)</th>\n",
              "      <td>0.559698</td>\n",
              "      <td>0.555556</td>\n",
              "      <td>0.375000</td>\n",
              "      <td>0.705882</td>\n",
              "      <td>0.058436</td>\n",
              "    </tr>\n",
              "    <tr>\n",
              "      <th>Positive Likelihood Ratio (LR+)</th>\n",
              "      <td>2.927705</td>\n",
              "      <td>2.800498</td>\n",
              "      <td>1.663415</td>\n",
              "      <td>5.526316</td>\n",
              "      <td>0.707941</td>\n",
              "    </tr>\n",
              "    <tr>\n",
              "      <th>Positive Predictive Value (PPV)</th>\n",
              "      <td>0.880615</td>\n",
              "      <td>0.878788</td>\n",
              "      <td>0.843750</td>\n",
              "      <td>0.942857</td>\n",
              "      <td>0.024744</td>\n",
              "    </tr>\n",
              "    <tr>\n",
              "      <th>Precision</th>\n",
              "      <td>0.880615</td>\n",
              "      <td>0.878788</td>\n",
              "      <td>0.843750</td>\n",
              "      <td>0.942857</td>\n",
              "      <td>0.024744</td>\n",
              "    </tr>\n",
              "    <tr>\n",
              "      <th>Recall</th>\n",
              "      <td>0.786095</td>\n",
              "      <td>0.783784</td>\n",
              "      <td>0.736842</td>\n",
              "      <td>0.861111</td>\n",
              "      <td>0.028851</td>\n",
              "    </tr>\n",
              "    <tr>\n",
              "      <th>Sensitivity</th>\n",
              "      <td>0.786095</td>\n",
              "      <td>0.783784</td>\n",
              "      <td>0.736842</td>\n",
              "      <td>0.861111</td>\n",
              "      <td>0.028851</td>\n",
              "    </tr>\n",
              "    <tr>\n",
              "      <th>Specificity</th>\n",
              "      <td>0.718306</td>\n",
              "      <td>0.714286</td>\n",
              "      <td>0.545455</td>\n",
              "      <td>0.857143</td>\n",
              "      <td>0.058819</td>\n",
              "    </tr>\n",
              "    <tr>\n",
              "      <th>True Negative Rate (TNR)</th>\n",
              "      <td>0.718306</td>\n",
              "      <td>0.714286</td>\n",
              "      <td>0.545455</td>\n",
              "      <td>0.857143</td>\n",
              "      <td>0.058819</td>\n",
              "    </tr>\n",
              "    <tr>\n",
              "      <th>True Positive rate (TPR)</th>\n",
              "      <td>0.786095</td>\n",
              "      <td>0.783784</td>\n",
              "      <td>0.736842</td>\n",
              "      <td>0.861111</td>\n",
              "      <td>0.028851</td>\n",
              "    </tr>\n",
              "  </tbody>\n",
              "</table>\n",
              "</div>"
            ],
            "text/plain": [
              "                                    Value                                \\\n",
              "                                     mean    median       min       max   \n",
              "Metric                                                                    \n",
              "Accuracy                         0.767500  0.769231  0.711538  0.826923   \n",
              "F1 Score                         0.830278  0.828571  0.794118  0.880000   \n",
              "False Discovery Rate (FDR)       0.119385  0.121212  0.057143  0.156250   \n",
              "False Negative Rate (FNR)        0.213905  0.216216  0.138889  0.263158   \n",
              "False Positive Rate (FPR)        0.281694  0.285714  0.142857  0.454545   \n",
              "Negative Likelihood Ratio (LR-)  0.299955  0.296296  0.202020  0.447154   \n",
              "Negative Predictive Value (NPV)  0.559698  0.555556  0.375000  0.705882   \n",
              "Positive Likelihood Ratio (LR+)  2.927705  2.800498  1.663415  5.526316   \n",
              "Positive Predictive Value (PPV)  0.880615  0.878788  0.843750  0.942857   \n",
              "Precision                        0.880615  0.878788  0.843750  0.942857   \n",
              "Recall                           0.786095  0.783784  0.736842  0.861111   \n",
              "Sensitivity                      0.786095  0.783784  0.736842  0.861111   \n",
              "Specificity                      0.718306  0.714286  0.545455  0.857143   \n",
              "True Negative Rate (TNR)         0.718306  0.714286  0.545455  0.857143   \n",
              "True Positive rate (TPR)         0.786095  0.783784  0.736842  0.861111   \n",
              "\n",
              "                                           \n",
              "                                      std  \n",
              "Metric                                     \n",
              "Accuracy                         0.025800  \n",
              "F1 Score                         0.020213  \n",
              "False Discovery Rate (FDR)       0.024744  \n",
              "False Negative Rate (FNR)        0.028851  \n",
              "False Positive Rate (FPR)        0.058819  \n",
              "Negative Likelihood Ratio (LR-)  0.049006  \n",
              "Negative Predictive Value (NPV)  0.058436  \n",
              "Positive Likelihood Ratio (LR+)  0.707941  \n",
              "Positive Predictive Value (PPV)  0.024744  \n",
              "Precision                        0.024744  \n",
              "Recall                           0.028851  \n",
              "Sensitivity                      0.028851  \n",
              "Specificity                      0.058819  \n",
              "True Negative Rate (TNR)         0.058819  \n",
              "True Positive rate (TPR)         0.028851  "
            ]
          },
          "execution_count": 12,
          "metadata": {},
          "output_type": "execute_result"
        }
      ],
      "source": [
        "pd\\\n",
        "    .concat(mcm_bootstrap)\\\n",
        "    .groupby('Metric')\\\n",
        "    .agg({'Value' : ['mean', 'median', 'min', 'max', 'std']})"
      ]
    },
    {
      "cell_type": "markdown",
      "metadata": {
        "id": "1UEcIJuseDhX"
      },
      "source": [
        "## Display\n",
        "\n",
        "Loading the matplotlib and seaborn to display the results."
      ]
    },
    {
      "cell_type": "code",
      "execution_count": null,
      "metadata": {
        "id": "Arhte_7neDhY"
      },
      "outputs": [],
      "source": [
        "import matplotlib.pyplot as plt\n",
        "import seaborn as sns"
      ]
    },
    {
      "cell_type": "markdown",
      "metadata": {
        "id": "KcJ76BNpeDhY"
      },
      "source": [
        "For example, if we want to display the distribution of accuracy we can execute the follwoing code."
      ]
    },
    {
      "cell_type": "code",
      "execution_count": null,
      "metadata": {
        "id": "eTvHcdSReDhZ",
        "outputId": "7e88b07d-58c0-40c6-853f-8f2acdb43bd4"
      },
      "outputs": [
        {
          "data": {
            "image/png": "[encoded data removed]",
            "text/plain": [
              "<Figure size 432x288 with 1 Axes>"
            ]
          },
          "metadata": {
            "needs_background": "light"
          },
          "output_type": "display_data"
        }
      ],
      "source": [
        "aux = pd.concat(mcm_bootstrap)\n",
        "aux\\\n",
        "    .query('Metric == \"Accuracy\"')\\\n",
        "    .plot(kind = 'density', label = 'Accuracy')\n",
        "plt.show()"
      ]
    },
    {
      "cell_type": "markdown",
      "metadata": {
        "id": "Vd2JemVWeDhZ"
      },
      "source": [
        "With seaborn is easy to display the distribution of all metrics."
      ]
    },
    {
      "cell_type": "code",
      "execution_count": null,
      "metadata": {
        "id": "F6w0053PeDha",
        "outputId": "700e046b-d801-4c54-9232-26ce7b96123a"
      },
      "outputs": [
        {
          "data": {
            "image/png": "[encoded data removed]",
            "text/plain": [
              "<Figure size 1080x648 with 15 Axes>"
            ]
          },
          "metadata": {
            "needs_background": "light"
          },
          "output_type": "display_data"
        }
      ],
      "source": [
        "g = sns.FacetGrid(pd.concat(mcm_bootstrap), \n",
        "                  col = 'Metric', \n",
        "                  col_wrap = 5, \n",
        "                  sharey = False, \n",
        "                  sharex = False)\n",
        "g = g.map(sns.distplot, 'Value', \n",
        "          hist = True, \n",
        "          kde = True, \n",
        "          rug = True, \n",
        "          hist_kws = {'color': 'C0'}, \n",
        "          kde_kws = {'color': 'red', 'linewidth': 2}, \n",
        "          rug_kws = {'color': 'black'})\n",
        "g = g.set_titles('{col_name}', size = 12)"
      ]
    },
    {
      "cell_type": "markdown",
      "metadata": {
        "id": "Tw0cVo-VeDha"
      },
      "source": [
        "The `mcm` function can help us to analyse a confusion matrix. If this confusion matrix come from a performed model, we can evaluate it with this function: Sensitivity and Specificity as principal metrics."
      ]
    }
  ],
  "metadata": {
    "kernelspec": {
      "display_name": "Python 3",
      "language": "python",
      "name": "python3"
    },
    "language_info": {
      "codemirror_mode": {
        "name": "ipython",
        "version": 3
      },
      "file_extension": ".py",
      "mimetype": "text/x-python",
      "name": "python",
      "nbconvert_exporter": "python",
      "pygments_lexer": "ipython3",
      "version": "3.7.8"
    },
    "colab": {
      "name": "mcm.ipynb",
      "provenance": [],
      "toc_visible": true
    }
  },
  "nbformat": 4,
  "nbformat_minor": 0
}